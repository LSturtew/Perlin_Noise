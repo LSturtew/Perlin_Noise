{
 "cells": [
  {
   "cell_type": "code",
   "execution_count": 1,
   "metadata": {
    "collapsed": true
   },
   "outputs": [],
   "source": [
    "import noise\n",
    "import numpy as np\n",
    "import matplotlib.pyplot as plt\n",
    "from mpl_toolkits.mplot3d import Axes3D\n",
    "RES = 5\n",
    "SIZE = 20\n",
    "voxels = np.zeros((SIZE,SIZE,SIZE), dtype=np.bool)"
   ]
  },
  {
   "cell_type": "code",
   "execution_count": 42,
   "metadata": {},
   "outputs": [],
   "source": [
    "for xp in range(SIZE):\n",
    "    for yp in range(SIZE):\n",
    "        for zp in range(SIZE):\n",
    "            voxels[xp,yp,zp] = True if abs(noise.pnoise3(xp/RES,yp/RES,zp/RES)) > .5 else False"
   ]
  },
  {
   "cell_type": "code",
   "execution_count": 40,
   "metadata": {},
   "outputs": [],
   "source": [
    "colors = np.empty(voxels.shape, dtype=object)\n",
    "colors[voxels] = 'green'"
   ]
  },
  {
   "cell_type": "code",
   "execution_count": 43,
   "metadata": {},
   "outputs": [],
   "source": [
    "fig = plt.figure()\n",
    "ax = fig.gca(projection='3d')\n",
    "ax.voxels(voxels, facecolors=colors, edgecolor='k')\n",
    "plt.show()"
   ]
  },
  {
   "cell_type": "code",
   "execution_count": 35,
   "metadata": {},
   "outputs": [],
   "source": [
    "frames = 20\n",
    "flat = np.zeros((SIZE, SIZE, frames))\n",
    "for f in range(frames):\n",
    "    for xp in range(SIZE):\n",
    "        for yp in range(SIZE):\n",
    "            flat[xp, yp, f] = noise.pnoise3(xp/RES, yp/RES, f/RES)\n",
    "    plt.imshow(flat[:,:,f])\n",
    "    plt.show()\n"
   ]
  },
  {
   "cell_type": "code",
   "execution_count": 39,
   "metadata": {},
   "outputs": [],
   "source": [
    "def animate(i):\n",
    "    z = flat[:,:,i]\n",
    "    cont = plt.imshow(z)\n",
    "\n",
    "    return cont,"
   ]
  },
  {
   "cell_type": "code",
   "execution_count": 40,
   "metadata": {},
   "outputs": [],
   "source": [
    "from matplotlib import animation\n",
    "fig = plt.figure()\n",
    "ax = plt.axes()\n",
    "anim = animation.FuncAnimation(fig, animate, frames=frames, interval=1)\n",
    "plt.show()"
   ]
  },
  {
   "cell_type": "code",
   "execution_count": null,
   "metadata": {},
   "outputs": [],
   "source": []
  }
 ],
 "metadata": {
  "kernelspec": {
   "display_name": "Python 2",
   "language": "python",
   "name": "python2"
  },
  "language_info": {
   "codemirror_mode": {
    "name": "ipython",
    "version": 2
   },
   "file_extension": ".py",
   "mimetype": "text/x-python",
   "name": "python",
   "nbconvert_exporter": "python",
   "pygments_lexer": "ipython2",
   "version": "2.7.6"
  }
 },
 "nbformat": 4,
 "nbformat_minor": 0
}
